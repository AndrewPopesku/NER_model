{
 "cells": [
  {
   "cell_type": "code",
   "execution_count": 5,
   "metadata": {},
   "outputs": [
    {
     "name": "stderr",
     "output_type": "stream",
     "text": [
      "2024-05-27 15:57:53.845579: I external/local_tsl/tsl/cuda/cudart_stub.cc:32] Could not find cuda drivers on your machine, GPU will not be used.\n",
      "2024-05-27 15:57:53.851577: I external/local_tsl/tsl/cuda/cudart_stub.cc:32] Could not find cuda drivers on your machine, GPU will not be used.\n",
      "2024-05-27 15:57:53.918522: I tensorflow/core/platform/cpu_feature_guard.cc:210] This TensorFlow binary is optimized to use available CPU instructions in performance-critical operations.\n",
      "To enable the following instructions: AVX2 FMA, in other operations, rebuild TensorFlow with the appropriate compiler flags.\n",
      "2024-05-27 15:57:56.416681: W tensorflow/compiler/tf2tensorrt/utils/py_utils.cc:38] TF-TRT Warning: Could not find TensorRT\n"
     ]
    }
   ],
   "source": [
    "import numpy as np\n",
    "from tensorflow.keras.models import load_model\n",
    "from tensorflow.keras.preprocessing.sequence import pad_sequences\n",
    "import json"
   ]
  },
  {
   "cell_type": "code",
   "execution_count": 6,
   "metadata": {},
   "outputs": [
    {
     "name": "stderr",
     "output_type": "stream",
     "text": [
      "WARNING:absl:Compiled the loaded model, but the compiled metrics have yet to be built. `model.compile_metrics` will be empty until you train or evaluate the model.\n"
     ]
    }
   ],
   "source": [
    "model = load_model(\"bilstm_ner_model.h5\")"
   ]
  },
  {
   "cell_type": "code",
   "execution_count": 7,
   "metadata": {},
   "outputs": [],
   "source": [
    "# Example dictionaries for word2idx and idx2tag (these should be consistent with your training data)\n",
    "with open('word2idx.json', 'r') as json_file:\n",
    "    word2idx = json.load(json_file)\n",
    "          \n",
    "with open('idx2tag.json', 'r') as json_file:\n",
    "    idx2tag = json.load(json_file)\n",
    "\n",
    "max_len = 75  # Same as used during training\n"
   ]
  },
  {
   "cell_type": "code",
   "execution_count": 10,
   "metadata": {},
   "outputs": [],
   "source": [
    "# Function to preprocess a new sentence\n",
    "def preprocess_sentence(sentence, word2idx, max_len):\n",
    "    X = [[word2idx.get(word, word2idx['UNK']) for word in sentence]]\n",
    "    X = pad_sequences(X, maxlen=max_len, padding='post')\n",
    "    return np.array(X)\n",
    "\n",
    "# Function to convert predictions to tags\n",
    "def predictions_to_tags(predictions, idx2tag, sentence_length):\n",
    "    pred_tags = np.argmax(predictions, axis=-1)\n",
    "    pred_tags = [idx2tag[str(idx)] for idx in pred_tags[0][:sentence_length]]\n",
    "    return pred_tags\n",
    "\n",
    "# Function to predict NER tags for a given sentence\n",
    "def predict_ner_tags(sentence):\n",
    "    # Preprocess the sentence\n",
    "    X_new = preprocess_sentence(sentence, word2idx, max_len)\n",
    "    # Make predictions\n",
    "    predictions = model.predict(X_new) \n",
    "    # Convert predictions to tags\n",
    "    predicted_tags = predictions_to_tags(predictions, idx2tag, len(sentence))\n",
    "    return predicted_tags\n"
   ]
  },
  {
   "cell_type": "code",
   "execution_count": null,
   "metadata": {},
   "outputs": [],
   "source": []
  },
  {
   "cell_type": "code",
   "execution_count": 12,
   "metadata": {},
   "outputs": [
    {
     "name": "stdout",
     "output_type": "stream",
     "text": [
      "\u001b[1m1/1\u001b[0m \u001b[32m━━━━━━━━━━━━━━━━━━━━\u001b[0m\u001b[37m\u001b[0m \u001b[1m0s\u001b[0m 30ms/step\n",
      "Sentence:  ['hy8k']\n",
      "Predicted Tags:  ['O']\n"
     ]
    }
   ],
   "source": [
    "new_sentence = input().split(\" \")\n",
    "predicted_tags = predict_ner_tags(new_sentence)\n",
    "\n",
    "print(\"Sentence: \", new_sentence)\n",
    "print(\"Predicted Tags: \", predicted_tags)"
   ]
  },
  {
   "cell_type": "code",
   "execution_count": null,
   "metadata": {},
   "outputs": [],
   "source": []
  },
  {
   "cell_type": "code",
   "execution_count": null,
   "metadata": {},
   "outputs": [],
   "source": []
  }
 ],
 "metadata": {
  "kernelspec": {
   "display_name": "Python 3",
   "language": "python",
   "name": "python3"
  },
  "language_info": {
   "codemirror_mode": {
    "name": "ipython",
    "version": 3
   },
   "file_extension": ".py",
   "mimetype": "text/x-python",
   "name": "python",
   "nbconvert_exporter": "python",
   "pygments_lexer": "ipython3",
   "version": "3.10.12"
  }
 },
 "nbformat": 4,
 "nbformat_minor": 2
}
